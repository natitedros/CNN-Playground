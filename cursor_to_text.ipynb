{
  "nbformat": 4,
  "nbformat_minor": 0,
  "metadata": {
    "colab": {
      "provenance": [],
      "authorship_tag": "ABX9TyNHp1qf53LPsd03Iw9lIkZL",
      "include_colab_link": true
    },
    "kernelspec": {
      "name": "python3",
      "display_name": "Python 3"
    },
    "language_info": {
      "name": "python"
    }
  },
  "cells": [
    {
      "cell_type": "markdown",
      "metadata": {
        "id": "view-in-github",
        "colab_type": "text"
      },
      "source": [
        "<a href=\"https://colab.research.google.com/github/natitedros/CNN-Playground/blob/main/cursor_to_text.ipynb\" target=\"_parent\"><img src=\"https://colab.research.google.com/assets/colab-badge.svg\" alt=\"Open In Colab\"/></a>"
      ]
    },
    {
      "cell_type": "code",
      "execution_count": 67,
      "metadata": {
        "id": "OAmMRWjo5p0z"
      },
      "outputs": [],
      "source": [
        "import tensorflow as tf\n",
        "from tensorflow.keras import layers, models\n",
        "import matplotlib.pyplot as plt\n",
        "import numpy as np\n",
        "import pandas as pd\n",
        "import kagglehub\n",
        "from kagglehub import KaggleDatasetAdapter\n",
        "from PIL import Image"
      ]
    },
    {
      "cell_type": "code",
      "source": [
        "# Load the latest version\n",
        "file_path = \"A_Z Handwritten Data.csv\"\n",
        "df = kagglehub.load_dataset(\n",
        "  KaggleDatasetAdapter.PANDAS,\n",
        "  \"sachinpatel21/az-handwritten-alphabets-in-csv-format\",\n",
        "  file_path,\n",
        ")"
      ],
      "metadata": {
        "colab": {
          "base_uri": "https://localhost:8080/"
        },
        "id": "QAVCJZ7A7WOK",
        "outputId": "7ce0795d-91a8-4d18-e3b0-759f38b841b3"
      },
      "execution_count": null,
      "outputs": [
        {
          "output_type": "stream",
          "name": "stderr",
          "text": [
            "/tmp/ipython-input-1099100609.py:3: DeprecationWarning: Use dataset_load() instead of load_dataset(). load_dataset() will be removed in a future version.\n",
            "  df = kagglehub.load_dataset(\n"
          ]
        },
        {
          "output_type": "stream",
          "name": "stdout",
          "text": [
            "Using Colab cache for faster access to the 'az-handwritten-alphabets-in-csv-format' dataset.\n"
          ]
        }
      ]
    },
    {
      "cell_type": "code",
      "source": [
        "train_images = df.iloc[:, 1:].values.astype('float32') / 255.0\n",
        "train_labels = df.iloc[:, 0].values"
      ],
      "metadata": {
        "id": "U78BWVju55mE"
      },
      "execution_count": 82,
      "outputs": []
    },
    {
      "cell_type": "code",
      "source": [
        "train_images.shape"
      ],
      "metadata": {
        "colab": {
          "base_uri": "https://localhost:8080/"
        },
        "id": "YKKv8y4A6srU",
        "outputId": "6d9661a8-351b-4693-f370-46519397b4b8"
      },
      "execution_count": 39,
      "outputs": [
        {
          "output_type": "execute_result",
          "data": {
            "text/plain": [
              "(372450, 784)"
            ]
          },
          "metadata": {},
          "execution_count": 39
        }
      ]
    },
    {
      "cell_type": "code",
      "source": [
        "fig, axes = plt.subplots(1, 3, figsize=(5, 5))\n",
        "for i in range(3):\n",
        "  axes[i].imshow(train_images[len(train_images)-1-i].reshape(28,28), cmap='gray')\n",
        "  axes[i].axis('off')\n",
        "plt.show()"
      ],
      "metadata": {
        "colab": {
          "base_uri": "https://localhost:8080/",
          "height": 150
        },
        "id": "7HyxXmyD8T6E",
        "outputId": "ba0310b8-4f60-4fe3-a6d9-96390296185a"
      },
      "execution_count": 40,
      "outputs": [
        {
          "output_type": "display_data",
          "data": {
            "text/plain": [
              "<Figure size 500x500 with 3 Axes>"
            ],
            "image/png": "[encoded data removed]"
          },
          "metadata": {}
        }
      ]
    },
    {
      "cell_type": "code",
      "source": [
        "model = models.Sequential([\n",
        "    layers.Dense(128, activation='relu', input_shape=(784,)),  # Added input_shape\n",
        "    layers.Dropout(0.2),\n",
        "    layers.Dense(64, activation='relu'),\n",
        "    layers.Dropout(0.2),\n",
        "    layers.Dense(26, activation='softmax')\n",
        "])"
      ],
      "metadata": {
        "colab": {
          "base_uri": "https://localhost:8080/"
        },
        "id": "ZvI4voamF2Ob",
        "outputId": "cf173c34-f9e5-4221-89d8-afb369522b24"
      },
      "execution_count": 83,
      "outputs": [
        {
          "output_type": "stream",
          "name": "stderr",
          "text": [
            "/usr/local/lib/python3.12/dist-packages/keras/src/layers/core/dense.py:93: UserWarning: Do not pass an `input_shape`/`input_dim` argument to a layer. When using Sequential models, prefer using an `Input(shape)` object as the first layer in the model instead.\n",
            "  super().__init__(activity_regularizer=activity_regularizer, **kwargs)\n"
          ]
        }
      ]
    },
    {
      "cell_type": "code",
      "source": [
        "model.compile(optimizer='adam',\n",
        "              # uses the negative log function when calculating probability\n",
        "              loss='sparse_categorical_crossentropy',\n",
        "              metrics=['accuracy'])\n",
        "history = model.fit(\n",
        "    train_images,\n",
        "    train_labels,\n",
        "    epochs=2\n",
        ")"
      ],
      "metadata": {
        "colab": {
          "base_uri": "https://localhost:8080/"
        },
        "id": "GKw4cn7kGc4N",
        "outputId": "475c2d24-06a9-46b4-bf05-4e4a0a5eaaf8"
      },
      "execution_count": 42,
      "outputs": [
        {
          "output_type": "stream",
          "name": "stdout",
          "text": [
            "Epoch 1/2\n",
            "\u001b[1m11640/11640\u001b[0m \u001b[32m━━━━━━━━━━━━━━━━━━━━\u001b[0m\u001b[37m\u001b[0m \u001b[1m54s\u001b[0m 5ms/step - accuracy: 0.8848 - loss: 0.4162\n",
            "Epoch 2/2\n",
            "\u001b[1m11640/11640\u001b[0m \u001b[32m━━━━━━━━━━━━━━━━━━━━\u001b[0m\u001b[37m\u001b[0m \u001b[1m53s\u001b[0m 5ms/step - accuracy: 0.9660 - loss: 0.1182\n"
          ]
        }
      ]
    },
    {
      "cell_type": "code",
      "source": [
        "probabilities = model.predict(train_images[4573].reshape(1, 784))\n",
        "predictions = np.argmax(probabilities, axis=1)\n",
        "print(f\"Predicted: {chr(ord('A')+predictions[0])}\")\n",
        "print(f\"Actual: {chr(ord('A')+train_labels[4573])}\")"
      ],
      "metadata": {
        "id": "lPB50AFfGf8L",
        "colab": {
          "base_uri": "https://localhost:8080/"
        },
        "outputId": "7f009d2b-0a62-470d-bc10-bf71765f076e"
      },
      "execution_count": 55,
      "outputs": [
        {
          "output_type": "stream",
          "name": "stdout",
          "text": [
            "\u001b[1m1/1\u001b[0m \u001b[32m━━━━━━━━━━━━━━━━━━━━\u001b[0m\u001b[37m\u001b[0m \u001b[1m0s\u001b[0m 40ms/step\n",
            "A\n"
          ]
        }
      ]
    },
    {
      "cell_type": "code",
      "source": [
        "from matplotlib.backends.backend_agg import FigureCanvasAgg"
      ],
      "metadata": {
        "id": "Rtl4SY_I-Ze4"
      },
      "execution_count": 56,
      "outputs": []
    },
    {
      "cell_type": "code",
      "source": [
        "class MouseStringDetector:\n",
        "\n",
        "    def __init__(self, csv_file, dt=0.015):\n",
        "        self.df = pd.read_csv(csv_file)\n",
        "        self.dt = dt  # fixed sampling interval in seconds (15ms)\n",
        "        self.positions = None\n",
        "        self.segments = []\n",
        "\n",
        "    def integrate_velocities(self):\n",
        "\n",
        "        vx = self.df['velocity_x'].values\n",
        "        vy = self.df['velocity_y'].values\n",
        "\n",
        "        # distance = v * time\n",
        "        # cumulative sum to represent the position\n",
        "        x = np.cumsum(vx * self.dt)\n",
        "        y = np.cumsum(vy * self.dt)\n",
        "\n",
        "        self.positions = np.column_stack([x, -y])\n",
        "\n",
        "        return self.positions\n",
        "\n",
        "\n",
        "    def segment_characters(self, pause_threshold=0.1, min_segment_length=5, min_pause_duration_ms=500):\n",
        "\n",
        "        # min_pause_duration_ms taken as 800 because the csv character break duration is 1 second\n",
        "        vx = self.df['velocity_x'].values\n",
        "        vy = self.df['velocity_y'].values\n",
        "\n",
        "        # Calculate speed (magnitude of velocity)\n",
        "        speed = np.sqrt(vx**2 + vy**2)\n",
        "\n",
        "        # Find pauses (low speed regions)\n",
        "        pauses = speed < pause_threshold\n",
        "\n",
        "        # Convert min_pause_duration from ms to number of samples\n",
        "        min_pause_samples = int(min_pause_duration_ms / (self.dt * 1000))\n",
        "\n",
        "        # Find pause boundaries\n",
        "        pause_changes = np.diff(pauses.astype(int), prepend=0)\n",
        "        pause_starts = np.where(pause_changes == 1)[0]\n",
        "        pause_ends = np.where(pause_changes == -1)[0]\n",
        "\n",
        "        # Segment based on pauses (only if pause is long enough)\n",
        "        segments = []\n",
        "        start_idx = 0\n",
        "\n",
        "        for pause_start, pause_end in zip(pause_starts, pause_ends):\n",
        "            pause_length = pause_end - pause_start\n",
        "\n",
        "            # Only segment if pause is long enough\n",
        "            if pause_length >= min_pause_samples:\n",
        "                if pause_start - start_idx >= min_segment_length:\n",
        "                    segments.append((start_idx, pause_start))\n",
        "                start_idx = pause_end\n",
        "\n",
        "        # Add final segment\n",
        "        if len(self.positions) - start_idx >= min_segment_length:\n",
        "            segments.append((start_idx, len(self.positions)))\n",
        "\n",
        "        self.segments = segments\n",
        "        return segments\n",
        "\n",
        "\n",
        "    def detect_string(self):\n",
        "\n",
        "        # Step 1: Integrate velocities to positions\n",
        "        print(\"Step 1: Integrating velocities to positions...\")\n",
        "        self.integrate_velocities()\n",
        "\n",
        "        # Step 2: Segment into characters\n",
        "        print(\"Step 2: Segmenting characters...\")\n",
        "        self.segment_characters()\n",
        "        print(f\"Found {len(self.segments)} potential characters\")\n",
        "\n",
        "        return\n",
        "\n",
        "    def visualize(self):\n",
        "\n",
        "            # Separate pages for each character\n",
        "            for i, (start, end) in enumerate(self.segments):\n",
        "                segment_pos = self.positions[start:end]\n",
        "\n",
        "                fig = plt.figure(figsize=(7, 7), dpi=4)\n",
        "\n",
        "                plt.plot(segment_pos[:, 0], segment_pos[:, 1],\n",
        "                        'k-', linewidth=10)\n",
        "                canvas = FigureCanvasAgg(fig)\n",
        "                canvas.draw()\n",
        "                image = np.asarray(canvas.buffer_rgba())\n",
        "\n",
        "\n",
        "                # Convert to PIL Image, then to grayscale\n",
        "                pil_image = Image.fromarray(image.astype('uint8'), mode='RGBA')\n",
        "                grayscale_image = pil_image.convert('L')\n",
        "                grayscale_array = np.array(grayscale_image)\n",
        "                grayscale_array = grayscale_array.reshape(1,784)\n",
        "\n",
        "                probabilities = model.predict(grayscale_array)\n",
        "                predictions = np.argmax(probabilities, axis=1)\n",
        "                letter = chr(ord('A')+predictions[0])\n",
        "                print(f\"The {i}th letter: {letter}\")\n",
        "\n",
        "                plt.axis('off')\n",
        "                plt.imshow(image)\n",
        "                plt.show()\n",
        "                plt.close()\n"
      ],
      "metadata": {
        "id": "51ySOXzyKVsh"
      },
      "execution_count": 78,
      "outputs": []
    },
    {
      "cell_type": "code",
      "source": [
        "from google.colab import files\n",
        "uploaded = files.upload()"
      ],
      "metadata": {
        "colab": {
          "base_uri": "https://localhost:8080/",
          "height": 73
        },
        "id": "wMnaXC4WNnwz",
        "outputId": "1b2c7331-22bd-45e0-e626-43264cbb49f3"
      },
      "execution_count": 61,
      "outputs": [
        {
          "output_type": "display_data",
          "data": {
            "text/plain": [
              "<IPython.core.display.HTML object>"
            ],
            "text/html": [
              "\n",
              "     <input type=\"file\" id=\"files-36d1837b-ccbc-445f-865f-e42ae4b2337b\" name=\"files[]\" multiple disabled\n",
              "        style=\"border:none\" />\n",
              "     <output id=\"result-36d1837b-ccbc-445f-865f-e42ae4b2337b\">\n",
              "      Upload widget is only available when the cell has been executed in the\n",
              "      current browser session. Please rerun this cell to enable.\n",
              "      </output>\n",
              "      <script>// Copyright 2017 Google LLC\n",
              "//\n",
              "// Licensed under the Apache License, Version 2.0 (the \"License\");\n",
              "// you may not use this file except in compliance with the License.\n",
              "// You may obtain a copy of the License at\n",
              "//\n",
              "//      http://www.apache.org/licenses/LICENSE-2.0\n",
              "//\n",
              "// Unless required by applicable law or agreed to in writing, software\n",
              "// distributed under the License is distributed on an \"AS IS\" BASIS,\n",
              "// WITHOUT WARRANTIES OR CONDITIONS OF ANY KIND, either express or implied.\n",
              "// See the License for the specific language governing permissions and\n",
              "// limitations under the License.\n",
              "\n",
              "/**\n",
              " * @fileoverview Helpers for google.colab Python module.\n",
              " */\n",
              "(function(scope) {\n",
              "function span(text, styleAttributes = {}) {\n",
              "  const element = document.createElement('span');\n",
              "  element.textContent = text;\n",
              "  for (const key of Object.keys(styleAttributes)) {\n",
              "    element.style[key] = styleAttributes[key];\n",
              "  }\n",
              "  return element;\n",
              "}\n",
              "\n",
              "// Max number of bytes which will be uploaded at a time.\n",
              "const MAX_PAYLOAD_SIZE = 100 * 1024;\n",
              "\n",
              "function _uploadFiles(inputId, outputId) {\n",
              "  const steps = uploadFilesStep(inputId, outputId);\n",
              "  const outputElement = document.getElementById(outputId);\n",
              "  // Cache steps on the outputElement to make it available for the next call\n",
              "  // to uploadFilesContinue from Python.\n",
              "  outputElement.steps = steps;\n",
              "\n",
              "  return _uploadFilesContinue(outputId);\n",
              "}\n",
              "\n",
              "// This is roughly an async generator (not supported in the browser yet),\n",
              "// where there are multiple asynchronous steps and the Python side is going\n",
              "// to poll for completion of each step.\n",
              "// This uses a Promise to block the python side on completion of each step,\n",
              "// then passes the result of the previous step as the input to the next step.\n",
              "function _uploadFilesContinue(outputId) {\n",
              "  const outputElement = document.getElementById(outputId);\n",
              "  const steps = outputElement.steps;\n",
              "\n",
              "  const next = steps.next(outputElement.lastPromiseValue);\n",
              "  return Promise.resolve(next.value.promise).then((value) => {\n",
              "    // Cache the last promise value to make it available to the next\n",
              "    // step of the generator.\n",
              "    outputElement.lastPromiseValue = value;\n",
              "    return next.value.response;\n",
              "  });\n",
              "}\n",
              "\n",
              "/**\n",
              " * Generator function which is called between each async step of the upload\n",
              " * process.\n",
              " * @param {string} inputId Element ID of the input file picker element.\n",
              " * @param {string} outputId Element ID of the output display.\n",
              " * @return {!Iterable<!Object>} Iterable of next steps.\n",
              " */\n",
              "function* uploadFilesStep(inputId, outputId) {\n",
              "  const inputElement = document.getElementById(inputId);\n",
              "  inputElement.disabled = false;\n",
              "\n",
              "  const outputElement = document.getElementById(outputId);\n",
              "  outputElement.innerHTML = '';\n",
              "\n",
              "  const pickedPromise = new Promise((resolve) => {\n",
              "    inputElement.addEventListener('change', (e) => {\n",
              "      resolve(e.target.files);\n",
              "    });\n",
              "  });\n",
              "\n",
              "  const cancel = document.createElement('button');\n",
              "  inputElement.parentElement.appendChild(cancel);\n",
              "  cancel.textContent = 'Cancel upload';\n",
              "  const cancelPromise = new Promise((resolve) => {\n",
              "    cancel.onclick = () => {\n",
              "      resolve(null);\n",
              "    };\n",
              "  });\n",
              "\n",
              "  // Wait for the user to pick the files.\n",
              "  const files = yield {\n",
              "    promise: Promise.race([pickedPromise, cancelPromise]),\n",
              "    response: {\n",
              "      action: 'starting',\n",
              "    }\n",
              "  };\n",
              "\n",
              "  cancel.remove();\n",
              "\n",
              "  // Disable the input element since further picks are not allowed.\n",
              "  inputElement.disabled = true;\n",
              "\n",
              "  if (!files) {\n",
              "    return {\n",
              "      response: {\n",
              "        action: 'complete',\n",
              "      }\n",
              "    };\n",
              "  }\n",
              "\n",
              "  for (const file of files) {\n",
              "    const li = document.createElement('li');\n",
              "    li.append(span(file.name, {fontWeight: 'bold'}));\n",
              "    li.append(span(\n",
              "        `(${file.type || 'n/a'}) - ${file.size} bytes, ` +\n",
              "        `last modified: ${\n",
              "            file.lastModifiedDate ? file.lastModifiedDate.toLocaleDateString() :\n",
              "                                    'n/a'} - `));\n",
              "    const percent = span('0% done');\n",
              "    li.appendChild(percent);\n",
              "\n",
              "    outputElement.appendChild(li);\n",
              "\n",
              "    const fileDataPromise = new Promise((resolve) => {\n",
              "      const reader = new FileReader();\n",
              "      reader.onload = (e) => {\n",
              "        resolve(e.target.result);\n",
              "      };\n",
              "      reader.readAsArrayBuffer(file);\n",
              "    });\n",
              "    // Wait for the data to be ready.\n",
              "    let fileData = yield {\n",
              "      promise: fileDataPromise,\n",
              "      response: {\n",
              "        action: 'continue',\n",
              "      }\n",
              "    };\n",
              "\n",
              "    // Use a chunked sending to avoid message size limits. See b/62115660.\n",
              "    let position = 0;\n",
              "    do {\n",
              "      const length = Math.min(fileData.byteLength - position, MAX_PAYLOAD_SIZE);\n",
              "      const chunk = new Uint8Array(fileData, position, length);\n",
              "      position += length;\n",
              "\n",
              "      const base64 = btoa(String.fromCharCode.apply(null, chunk));\n",
              "      yield {\n",
              "        response: {\n",
              "          action: 'append',\n",
              "          file: file.name,\n",
              "          data: base64,\n",
              "        },\n",
              "      };\n",
              "\n",
              "      let percentDone = fileData.byteLength === 0 ?\n",
              "          100 :\n",
              "          Math.round((position / fileData.byteLength) * 100);\n",
              "      percent.textContent = `${percentDone}% done`;\n",
              "\n",
              "    } while (position < fileData.byteLength);\n",
              "  }\n",
              "\n",
              "  // All done.\n",
              "  yield {\n",
              "    response: {\n",
              "      action: 'complete',\n",
              "    }\n",
              "  };\n",
              "}\n",
              "\n",
              "scope.google = scope.google || {};\n",
              "scope.google.colab = scope.google.colab || {};\n",
              "scope.google.colab._files = {\n",
              "  _uploadFiles,\n",
              "  _uploadFilesContinue,\n",
              "};\n",
              "})(self);\n",
              "</script> "
            ]
          },
          "metadata": {}
        },
        {
          "output_type": "stream",
          "name": "stdout",
          "text": [
            "Saving mouse_velocities2.csv to mouse_velocities2.csv\n"
          ]
        }
      ]
    },
    {
      "cell_type": "code",
      "source": [
        "detector = MouseStringDetector('mouse_velocities2.csv')\n",
        "detector.detect_string()\n",
        "\n",
        "detector.visualize()"
      ],
      "metadata": {
        "colab": {
          "base_uri": "https://localhost:8080/",
          "height": 387
        },
        "id": "2Wudy3b7Ke94",
        "outputId": "fdc3ec69-0816-4164-80fd-e06a76c998ed"
      },
      "execution_count": 79,
      "outputs": [
        {
          "output_type": "stream",
          "name": "stdout",
          "text": [
            "Step 1: Integrating velocities to positions...\n",
            "Step 2: Segmenting characters...\n",
            "Found 5 potential characters\n",
            "\u001b[1m1/1\u001b[0m \u001b[32m━━━━━━━━━━━━━━━━━━━━\u001b[0m\u001b[37m\u001b[0m \u001b[1m0s\u001b[0m 61ms/step\n",
            "The 0th letter: A\n"
          ]
        },
        {
          "output_type": "stream",
          "name": "stderr",
          "text": [
            "/tmp/ipython-input-1709233989.py:94: DeprecationWarning: 'mode' parameter is deprecated and will be removed in Pillow 13 (2026-10-15)\n",
            "  pil_image = Image.fromarray(image.astype('uint8'), mode='RGBA')\n"
          ]
        },
        {
          "output_type": "display_data",
          "data": {
            "text/plain": [
              "<Figure size 28x28 with 1 Axes>"
            ],
            "image/png": "[encoded data removed]"
          },
          "metadata": {}
        },
        {
          "output_type": "stream",
          "name": "stdout",
          "text": [
            "\u001b[1m1/1\u001b[0m \u001b[32m━━━━━━━━━━━━━━━━━━━━\u001b[0m\u001b[37m\u001b[0m \u001b[1m0s\u001b[0m 65ms/step\n",
            "The 1th letter: A\n"
          ]
        },
        {
          "output_type": "display_data",
          "data": {
            "text/plain": [
              "<Figure size 28x28 with 1 Axes>"
            ],
            "image/png": "[encoded data removed]"
          },
          "metadata": {}
        },
        {
          "output_type": "stream",
          "name": "stdout",
          "text": [
            "\u001b[1m1/1\u001b[0m \u001b[32m━━━━━━━━━━━━━━━━━━━━\u001b[0m\u001b[37m\u001b[0m \u001b[1m0s\u001b[0m 50ms/step\n",
            "The 2th letter: A\n"
          ]
        },
        {
          "output_type": "display_data",
          "data": {
            "text/plain": [
              "<Figure size 28x28 with 1 Axes>"
            ],
            "image/png": "[encoded data removed]"
          },
          "metadata": {}
        },
        {
          "output_type": "stream",
          "name": "stdout",
          "text": [
            "\u001b[1m1/1\u001b[0m \u001b[32m━━━━━━━━━━━━━━━━━━━━\u001b[0m\u001b[37m\u001b[0m \u001b[1m0s\u001b[0m 61ms/step\n",
            "The 3th letter: A\n"
          ]
        },
        {
          "output_type": "display_data",
          "data": {
            "text/plain": [
              "<Figure size 28x28 with 1 Axes>"
            ],
            "image/png": "[encoded data removed]"
          },
          "metadata": {}
        },
        {
          "output_type": "stream",
          "name": "stdout",
          "text": [
            "\u001b[1m1/1\u001b[0m \u001b[32m━━━━━━━━━━━━━━━━━━━━\u001b[0m\u001b[37m\u001b[0m \u001b[1m0s\u001b[0m 47ms/step\n",
            "The 4th letter: A\n"
          ]
        },
        {
          "output_type": "display_data",
          "data": {
            "text/plain": [
              "<Figure size 28x28 with 1 Axes>"
            ],
            "image/png": "[encoded data removed]"
          },
          "metadata": {}
        }
      ]
    },
    {
      "cell_type": "code",
      "source": [],
      "metadata": {
        "id": "e741blsFMjBC"
      },
      "execution_count": null,
      "outputs": []
    }
  ]
}